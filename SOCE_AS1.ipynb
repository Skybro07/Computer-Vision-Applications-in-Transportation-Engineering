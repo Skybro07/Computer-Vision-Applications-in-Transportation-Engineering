{
  "nbformat": 4,
  "nbformat_minor": 0,
  "metadata": {
    "colab": {
      "name": "SOCE_AS1.ipynb",
      "provenance": []
    },
    "kernelspec": {
      "name": "python3",
      "display_name": "Python 3"
    },
    "language_info": {
      "name": "python"
    }
  },
  "cells": [
    {
      "cell_type": "code",
      "execution_count": 209,
      "metadata": {
        "id": "uf8GAyDO4JFn"
      },
      "outputs": [],
      "source": [
        "import numpy as np\n",
        "import pandas as pd\n",
        "import matplotlib.pyplot as plt\n"
      ]
    },
    {
      "cell_type": "code",
      "source": [
        "file=pd.read_csv(\"/content/crack_detection - crack_detection.csv\")"
      ],
      "metadata": {
        "id": "IovpvHxA4hSU"
      },
      "execution_count": 210,
      "outputs": []
    },
    {
      "cell_type": "code",
      "source": [
        "\n",
        "file.drop('Unnamed: 0', axis=1, inplace=True)\n"
      ],
      "metadata": {
        "id": "ZyKY0Tc35DMd"
      },
      "execution_count": 211,
      "outputs": []
    },
    {
      "cell_type": "code",
      "source": [
        "file.head()"
      ],
      "metadata": {
        "colab": {
          "base_uri": "https://localhost:8080/",
          "height": 299
        },
        "id": "K-Rx0ZNF5cvf",
        "outputId": "3afba6a8-88b1-457c-db81-647f68a9658a"
      },
      "execution_count": 212,
      "outputs": [
        {
          "output_type": "execute_result",
          "data": {
            "text/plain": [
              "     mean_r      std_r     kur_r    skew_r    mean_g      std_g     kur_g  \\\n",
              "0  107.5734  29.267480  0.744029  0.408828  110.2533  26.953218  1.254689   \n",
              "1  178.6713  14.917756  3.192406  0.238175  184.4947  14.882156  3.035196   \n",
              "2  176.6517  34.618255 -0.146336 -0.421552  161.3083  33.688699  0.057178   \n",
              "3  113.5760  20.084502  0.719752  0.737728  114.0056  19.536222  0.655846   \n",
              "4  125.3565  29.251595  0.430344  0.833496  129.5277  28.661968  0.475502   \n",
              "\n",
              "     skew_g    mean_b      std_b  ...  contrast_r  contrast_g  contrast_b  \\\n",
              "0 -0.135613  113.5715  25.422051  ...    9.181953         177         173   \n",
              "1  0.141160  190.8538  14.806283  ...    9.207314         142         136   \n",
              "2 -0.521476  147.2760  30.809486  ...    9.186737         199         200   \n",
              "3  0.729521  113.6179  18.108592  ...    9.197973         146         142   \n",
              "4  0.804161  131.9745  27.475848  ...    9.189257         173         176   \n",
              "\n",
              "   corr_rg   corr_rb   corr_gb  moment_r     moment_g     moment_b  label  \n",
              "0      162  0.951368  0.913876  0.803333   856.585412   726.475939      0  \n",
              "1      129  0.988325  0.989474  0.976787   222.539456   221.478572      0  \n",
              "2      194  0.968581  0.967398  0.890845  1198.423587  1134.928451      1  \n",
              "3      138  0.987383  0.983663  0.961305   403.387224   381.663969      0  \n",
              "4      177  0.980727  0.986702  0.950291   855.655808   821.508433      1  \n",
              "\n",
              "[5 rows x 24 columns]"
            ],
            "text/html": [
              "\n",
              "  <div id=\"df-1e811fd4-658c-4a23-8f0e-61b67fcc1087\">\n",
              "    <div class=\"colab-df-container\">\n",
              "      <div>\n",
              "<style scoped>\n",
              "    .dataframe tbody tr th:only-of-type {\n",
              "        vertical-align: middle;\n",
              "    }\n",
              "\n",
              "    .dataframe tbody tr th {\n",
              "        vertical-align: top;\n",
              "    }\n",
              "\n",
              "    .dataframe thead th {\n",
              "        text-align: right;\n",
              "    }\n",
              "</style>\n",
              "<table border=\"1\" class=\"dataframe\">\n",
              "  <thead>\n",
              "    <tr style=\"text-align: right;\">\n",
              "      <th></th>\n",
              "      <th>mean_r</th>\n",
              "      <th>std_r</th>\n",
              "      <th>kur_r</th>\n",
              "      <th>skew_r</th>\n",
              "      <th>mean_g</th>\n",
              "      <th>std_g</th>\n",
              "      <th>kur_g</th>\n",
              "      <th>skew_g</th>\n",
              "      <th>mean_b</th>\n",
              "      <th>std_b</th>\n",
              "      <th>...</th>\n",
              "      <th>contrast_r</th>\n",
              "      <th>contrast_g</th>\n",
              "      <th>contrast_b</th>\n",
              "      <th>corr_rg</th>\n",
              "      <th>corr_rb</th>\n",
              "      <th>corr_gb</th>\n",
              "      <th>moment_r</th>\n",
              "      <th>moment_g</th>\n",
              "      <th>moment_b</th>\n",
              "      <th>label</th>\n",
              "    </tr>\n",
              "  </thead>\n",
              "  <tbody>\n",
              "    <tr>\n",
              "      <th>0</th>\n",
              "      <td>107.5734</td>\n",
              "      <td>29.267480</td>\n",
              "      <td>0.744029</td>\n",
              "      <td>0.408828</td>\n",
              "      <td>110.2533</td>\n",
              "      <td>26.953218</td>\n",
              "      <td>1.254689</td>\n",
              "      <td>-0.135613</td>\n",
              "      <td>113.5715</td>\n",
              "      <td>25.422051</td>\n",
              "      <td>...</td>\n",
              "      <td>9.181953</td>\n",
              "      <td>177</td>\n",
              "      <td>173</td>\n",
              "      <td>162</td>\n",
              "      <td>0.951368</td>\n",
              "      <td>0.913876</td>\n",
              "      <td>0.803333</td>\n",
              "      <td>856.585412</td>\n",
              "      <td>726.475939</td>\n",
              "      <td>0</td>\n",
              "    </tr>\n",
              "    <tr>\n",
              "      <th>1</th>\n",
              "      <td>178.6713</td>\n",
              "      <td>14.917756</td>\n",
              "      <td>3.192406</td>\n",
              "      <td>0.238175</td>\n",
              "      <td>184.4947</td>\n",
              "      <td>14.882156</td>\n",
              "      <td>3.035196</td>\n",
              "      <td>0.141160</td>\n",
              "      <td>190.8538</td>\n",
              "      <td>14.806283</td>\n",
              "      <td>...</td>\n",
              "      <td>9.207314</td>\n",
              "      <td>142</td>\n",
              "      <td>136</td>\n",
              "      <td>129</td>\n",
              "      <td>0.988325</td>\n",
              "      <td>0.989474</td>\n",
              "      <td>0.976787</td>\n",
              "      <td>222.539456</td>\n",
              "      <td>221.478572</td>\n",
              "      <td>0</td>\n",
              "    </tr>\n",
              "    <tr>\n",
              "      <th>2</th>\n",
              "      <td>176.6517</td>\n",
              "      <td>34.618255</td>\n",
              "      <td>-0.146336</td>\n",
              "      <td>-0.421552</td>\n",
              "      <td>161.3083</td>\n",
              "      <td>33.688699</td>\n",
              "      <td>0.057178</td>\n",
              "      <td>-0.521476</td>\n",
              "      <td>147.2760</td>\n",
              "      <td>30.809486</td>\n",
              "      <td>...</td>\n",
              "      <td>9.186737</td>\n",
              "      <td>199</td>\n",
              "      <td>200</td>\n",
              "      <td>194</td>\n",
              "      <td>0.968581</td>\n",
              "      <td>0.967398</td>\n",
              "      <td>0.890845</td>\n",
              "      <td>1198.423587</td>\n",
              "      <td>1134.928451</td>\n",
              "      <td>1</td>\n",
              "    </tr>\n",
              "    <tr>\n",
              "      <th>3</th>\n",
              "      <td>113.5760</td>\n",
              "      <td>20.084502</td>\n",
              "      <td>0.719752</td>\n",
              "      <td>0.737728</td>\n",
              "      <td>114.0056</td>\n",
              "      <td>19.536222</td>\n",
              "      <td>0.655846</td>\n",
              "      <td>0.729521</td>\n",
              "      <td>113.6179</td>\n",
              "      <td>18.108592</td>\n",
              "      <td>...</td>\n",
              "      <td>9.197973</td>\n",
              "      <td>146</td>\n",
              "      <td>142</td>\n",
              "      <td>138</td>\n",
              "      <td>0.987383</td>\n",
              "      <td>0.983663</td>\n",
              "      <td>0.961305</td>\n",
              "      <td>403.387224</td>\n",
              "      <td>381.663969</td>\n",
              "      <td>0</td>\n",
              "    </tr>\n",
              "    <tr>\n",
              "      <th>4</th>\n",
              "      <td>125.3565</td>\n",
              "      <td>29.251595</td>\n",
              "      <td>0.430344</td>\n",
              "      <td>0.833496</td>\n",
              "      <td>129.5277</td>\n",
              "      <td>28.661968</td>\n",
              "      <td>0.475502</td>\n",
              "      <td>0.804161</td>\n",
              "      <td>131.9745</td>\n",
              "      <td>27.475848</td>\n",
              "      <td>...</td>\n",
              "      <td>9.189257</td>\n",
              "      <td>173</td>\n",
              "      <td>176</td>\n",
              "      <td>177</td>\n",
              "      <td>0.980727</td>\n",
              "      <td>0.986702</td>\n",
              "      <td>0.950291</td>\n",
              "      <td>855.655808</td>\n",
              "      <td>821.508433</td>\n",
              "      <td>1</td>\n",
              "    </tr>\n",
              "  </tbody>\n",
              "</table>\n",
              "<p>5 rows × 24 columns</p>\n",
              "</div>\n",
              "      <button class=\"colab-df-convert\" onclick=\"convertToInteractive('df-1e811fd4-658c-4a23-8f0e-61b67fcc1087')\"\n",
              "              title=\"Convert this dataframe to an interactive table.\"\n",
              "              style=\"display:none;\">\n",
              "        \n",
              "  <svg xmlns=\"http://www.w3.org/2000/svg\" height=\"24px\"viewBox=\"0 0 24 24\"\n",
              "       width=\"24px\">\n",
              "    <path d=\"M0 0h24v24H0V0z\" fill=\"none\"/>\n",
              "    <path d=\"M18.56 5.44l.94 2.06.94-2.06 2.06-.94-2.06-.94-.94-2.06-.94 2.06-2.06.94zm-11 1L8.5 8.5l.94-2.06 2.06-.94-2.06-.94L8.5 2.5l-.94 2.06-2.06.94zm10 10l.94 2.06.94-2.06 2.06-.94-2.06-.94-.94-2.06-.94 2.06-2.06.94z\"/><path d=\"M17.41 7.96l-1.37-1.37c-.4-.4-.92-.59-1.43-.59-.52 0-1.04.2-1.43.59L10.3 9.45l-7.72 7.72c-.78.78-.78 2.05 0 2.83L4 21.41c.39.39.9.59 1.41.59.51 0 1.02-.2 1.41-.59l7.78-7.78 2.81-2.81c.8-.78.8-2.07 0-2.86zM5.41 20L4 18.59l7.72-7.72 1.47 1.35L5.41 20z\"/>\n",
              "  </svg>\n",
              "      </button>\n",
              "      \n",
              "  <style>\n",
              "    .colab-df-container {\n",
              "      display:flex;\n",
              "      flex-wrap:wrap;\n",
              "      gap: 12px;\n",
              "    }\n",
              "\n",
              "    .colab-df-convert {\n",
              "      background-color: #E8F0FE;\n",
              "      border: none;\n",
              "      border-radius: 50%;\n",
              "      cursor: pointer;\n",
              "      display: none;\n",
              "      fill: #1967D2;\n",
              "      height: 32px;\n",
              "      padding: 0 0 0 0;\n",
              "      width: 32px;\n",
              "    }\n",
              "\n",
              "    .colab-df-convert:hover {\n",
              "      background-color: #E2EBFA;\n",
              "      box-shadow: 0px 1px 2px rgba(60, 64, 67, 0.3), 0px 1px 3px 1px rgba(60, 64, 67, 0.15);\n",
              "      fill: #174EA6;\n",
              "    }\n",
              "\n",
              "    [theme=dark] .colab-df-convert {\n",
              "      background-color: #3B4455;\n",
              "      fill: #D2E3FC;\n",
              "    }\n",
              "\n",
              "    [theme=dark] .colab-df-convert:hover {\n",
              "      background-color: #434B5C;\n",
              "      box-shadow: 0px 1px 3px 1px rgba(0, 0, 0, 0.15);\n",
              "      filter: drop-shadow(0px 1px 2px rgba(0, 0, 0, 0.3));\n",
              "      fill: #FFFFFF;\n",
              "    }\n",
              "  </style>\n",
              "\n",
              "      <script>\n",
              "        const buttonEl =\n",
              "          document.querySelector('#df-1e811fd4-658c-4a23-8f0e-61b67fcc1087 button.colab-df-convert');\n",
              "        buttonEl.style.display =\n",
              "          google.colab.kernel.accessAllowed ? 'block' : 'none';\n",
              "\n",
              "        async function convertToInteractive(key) {\n",
              "          const element = document.querySelector('#df-1e811fd4-658c-4a23-8f0e-61b67fcc1087');\n",
              "          const dataTable =\n",
              "            await google.colab.kernel.invokeFunction('convertToInteractive',\n",
              "                                                     [key], {});\n",
              "          if (!dataTable) return;\n",
              "\n",
              "          const docLinkHtml = 'Like what you see? Visit the ' +\n",
              "            '<a target=\"_blank\" href=https://colab.research.google.com/notebooks/data_table.ipynb>data table notebook</a>'\n",
              "            + ' to learn more about interactive tables.';\n",
              "          element.innerHTML = '';\n",
              "          dataTable['output_type'] = 'display_data';\n",
              "          await google.colab.output.renderOutput(dataTable, element);\n",
              "          const docLink = document.createElement('div');\n",
              "          docLink.innerHTML = docLinkHtml;\n",
              "          element.appendChild(docLink);\n",
              "        }\n",
              "      </script>\n",
              "    </div>\n",
              "  </div>\n",
              "  "
            ]
          },
          "metadata": {},
          "execution_count": 212
        }
      ]
    },
    {
      "cell_type": "code",
      "source": [
        "file.shape"
      ],
      "metadata": {
        "colab": {
          "base_uri": "https://localhost:8080/"
        },
        "id": "BhIB87nXU2fx",
        "outputId": "f6ca563b-1d42-4a25-8d8c-428bfdd6defa"
      },
      "execution_count": 213,
      "outputs": [
        {
          "output_type": "execute_result",
          "data": {
            "text/plain": [
              "(700, 24)"
            ]
          },
          "metadata": {},
          "execution_count": 213
        }
      ]
    },
    {
      "cell_type": "code",
      "source": [
        "x=file.iloc[:,:-1].values\n",
        "y=file.iloc[:,-1].values"
      ],
      "metadata": {
        "id": "GNMF6oP75u3g"
      },
      "execution_count": 214,
      "outputs": []
    },
    {
      "cell_type": "code",
      "source": [
        "x.shape,y.shape"
      ],
      "metadata": {
        "colab": {
          "base_uri": "https://localhost:8080/"
        },
        "id": "o7Pq9H5o9S1_",
        "outputId": "0b36b004-fe8c-4aeb-f072-1dadcba10fd9"
      },
      "execution_count": 215,
      "outputs": [
        {
          "output_type": "execute_result",
          "data": {
            "text/plain": [
              "((700, 23), (700,))"
            ]
          },
          "metadata": {},
          "execution_count": 215
        }
      ]
    },
    {
      "cell_type": "code",
      "source": [
        "train_x, test_x,val_x = x[:420], x[420:420+140],x[420+140:420+140+140]\n",
        "train_y, test_y ,val_y= y[:420], y[420:420+140],y[420+140:420+140+140]\n",
        "\n"
      ],
      "metadata": {
        "id": "BQF35UMu9dZI"
      },
      "execution_count": 225,
      "outputs": []
    },
    {
      "cell_type": "code",
      "source": [
        "test_x.shape"
      ],
      "metadata": {
        "colab": {
          "base_uri": "https://localhost:8080/"
        },
        "id": "k63iRLDuVAUJ",
        "outputId": "52633928-4385-46bf-c9d2-e480b4fdcaaf"
      },
      "execution_count": 226,
      "outputs": [
        {
          "output_type": "execute_result",
          "data": {
            "text/plain": [
              "(140, 23)"
            ]
          },
          "metadata": {},
          "execution_count": 226
        }
      ]
    },
    {
      "cell_type": "code",
      "source": [
        "norm = np.linalg.norm(train_x,axis=1)[:,np.newaxis]\n",
        "X = train_x/norm\n",
        "norm = np.linalg.norm(test_x,axis=1)[:,np.newaxis]\n",
        "X_test= test_x/norm\n",
        "norm = np.linalg.norm(val_x,axis=1)[:,np.newaxis]\n",
        "X_val= val_x/norm"
      ],
      "metadata": {
        "id": "bdEaxa8u-bf5"
      },
      "execution_count": 283,
      "outputs": []
    },
    {
      "cell_type": "code",
      "source": [
        "def sigmoid(X):\n",
        "  return 1/(1+np.exp(-X))"
      ],
      "metadata": {
        "id": "W5bvramH_mHy"
      },
      "execution_count": 284,
      "outputs": []
    },
    {
      "cell_type": "code",
      "source": [
        "def predicted(X,m,c):\n",
        "  y=np.dot(X,m)+c\n",
        "  Y=sigmoid(y)\n",
        "  return Y"
      ],
      "metadata": {
        "id": "9DQ06mSM_oaz"
      },
      "execution_count": 285,
      "outputs": []
    },
    {
      "cell_type": "code",
      "source": [
        "def loss(Y,train_y):\n",
        "  return np.mean(-train_y*np.log(Y)-(1-train_y)*np.log(1-Y))"
      ],
      "metadata": {
        "id": "zDRVzo7nCO3h"
      },
      "execution_count": 286,
      "outputs": []
    },
    {
      "cell_type": "code",
      "source": [
        "def coefficient(X,train_y):\n",
        "  alpha=0.009\n",
        "  m=np.random.randn((23))\n",
        "  c=np.random.randn((1))\n",
        "  losses=[]\n",
        "  for i in range(10000):\n",
        "\n",
        "    Y_pred=predicted(X,m,c)\n",
        "    mean_=np.mean(np.dot((Y_pred-train_y),X))\n",
        "    mean=np.mean(Y_pred-train_y)\n",
        "    c=c-(alpha)*mean\n",
        "    m=m-(alpha)*mean_\n",
        "    los=loss(Y_pred,train_y)\n",
        "    losses.append(los)\n",
        "    if i%1000==0:\n",
        "      print(los)\n",
        "\n",
        "  return m,c"
      ],
      "metadata": {
        "id": "Hr4OAVMuDT9Y"
      },
      "execution_count": 287,
      "outputs": []
    },
    {
      "cell_type": "code",
      "source": [
        "m,c=coefficient(X,train_y)\n",
        "print(m,c)"
      ],
      "metadata": {
        "colab": {
          "base_uri": "https://localhost:8080/"
        },
        "id": "BtBK7MdZG_Te",
        "outputId": "26adfa4e-f65f-4673-d9bc-79a7fc32373d"
      },
      "execution_count": 288,
      "outputs": [
        {
          "output_type": "stream",
          "name": "stdout",
          "text": [
            "0.9693920518293107\n",
            "0.743135486758791\n",
            "0.7223889861406206\n",
            "0.7037767527790031\n",
            "0.6870853259857895\n",
            "0.6721153461146676\n",
            "0.6586832410045674\n",
            "0.6466218808829919\n",
            "0.635780463636394\n",
            "0.626023866462248\n",
            "[-0.83325972 -0.52603763 -1.6031965  -2.2667246  -1.01458781 -1.61060339\n",
            " -0.93295284  0.98045062 -0.97025024 -2.20851101 -2.23581878 -0.75519021\n",
            " -0.21660218 -0.5965202  -0.12349576 -1.98534874  1.10650275 -2.22986528\n",
            " -1.41076354 -0.73740238  0.58610225 -0.56544365 -1.83511735] [2.36155957]\n"
          ]
        }
      ]
    },
    {
      "cell_type": "code",
      "source": [
        "y_pred=predicted(X_test,m,c)\n",
        "y_pred=np.where(y_pred>0.5,1,0)\n",
        "total=np.sum(test_y==y_pred)\n",
        "print(total/y_pred.shape[0])"
      ],
      "metadata": {
        "colab": {
          "base_uri": "https://localhost:8080/"
        },
        "id": "M7JGxJDPIpuG",
        "outputId": "b9a6e1e0-b1a5-45d6-b19b-8b7bbf4be023"
      },
      "execution_count": 289,
      "outputs": [
        {
          "output_type": "stream",
          "name": "stdout",
          "text": [
            "0.7714285714285715\n"
          ]
        }
      ]
    },
    {
      "cell_type": "code",
      "source": [
        "y_pred_train=predicted(X,m,c)\n",
        "y_pred_train = np.where(y_pred_train>0.5,1,0)\n",
        "y_pred_val=predicted(X_val,m,c)\n",
        "y_pred_val = np.where(y_pred_val>0.5,1,0)\n",
        "y_pred_test=predicted(X_test,m,c)\n",
        "y_pred_test = np.where(y_pred_test>0.5,1,0)"
      ],
      "metadata": {
        "id": "DhY_s6gsPQfr"
      },
      "execution_count": 290,
      "outputs": []
    },
    {
      "cell_type": "code",
      "source": [
        "def function(y_pred_train,train_y):\n",
        "  positive_true=0\n",
        "  negative_true=0\n",
        "  negative_false=0\n",
        "  positive_false=0\n",
        "  for i in range(len(y_pred_train)):\n",
        "    if (y_pred_train[i]==1 and train_y[i]==1):\n",
        "      positive_true+=1\n",
        "    elif y_pred_train[i]==1 and train_y[i]==0:\n",
        "      positive_false+=1\n",
        "    elif y_pred_train[i]==0 and train_y[i]==1:\n",
        "        negative_false+=1\n",
        "    elif y_pred_train[i]==0 and train_y[i]==0:\n",
        "        negative_true+=1\n",
        "  precision=positive_true/(positive_true+positive_false)\n",
        "  recall=positive_true/(positive_true+negative_false)\n",
        "  print(f\"precision is ={precision}\")\n",
        "  print(f\"recall is ={recall}\")\n",
        "  f1=2*(precision*recall/(recall+precision))\n",
        "  print(f\"f1 value is ={f1}\")\n",
        "  # print(positive_true,negative_true,negative_false,positive_false)"
      ],
      "metadata": {
        "id": "dt4A98HSfcUy"
      },
      "execution_count": 310,
      "outputs": []
    },
    {
      "cell_type": "code",
      "source": [
        "\n",
        "function(y_pred_train,train_y)"
      ],
      "metadata": {
        "colab": {
          "base_uri": "https://localhost:8080/"
        },
        "id": "xHlJDtLvmkWo",
        "outputId": "a5353086-5275-444d-d3b4-063680cfc745"
      },
      "execution_count": 311,
      "outputs": [
        {
          "output_type": "stream",
          "name": "stdout",
          "text": [
            "precision is =0.7746478873239436\n",
            "recall is =0.7746478873239436\n",
            "f1 value is =0.7746478873239436\n"
          ]
        }
      ]
    },
    {
      "cell_type": "code",
      "source": [
        "function(y_pred_test,test_y)"
      ],
      "metadata": {
        "colab": {
          "base_uri": "https://localhost:8080/"
        },
        "id": "u28xLPowoCci",
        "outputId": "6cd9f3f3-3748-434e-853e-a48587c1f2f1"
      },
      "execution_count": 312,
      "outputs": [
        {
          "output_type": "stream",
          "name": "stdout",
          "text": [
            "precision is =0.7746478873239436\n",
            "recall is =0.7746478873239436\n",
            "f1 value is =0.7746478873239436\n"
          ]
        }
      ]
    },
    {
      "cell_type": "code",
      "source": [
        "\n",
        "function(y_pred_val,val_y)"
      ],
      "metadata": {
        "colab": {
          "base_uri": "https://localhost:8080/"
        },
        "id": "jj3I2WbQ4RXG",
        "outputId": "383408ce-1418-4974-fa91-057e2e0ac5f8"
      },
      "execution_count": 313,
      "outputs": [
        {
          "output_type": "stream",
          "name": "stdout",
          "text": [
            "precision is =0.7\n",
            "recall is =0.7538461538461538\n",
            "f1 value is =0.725925925925926\n"
          ]
        }
      ]
    },
    {
      "cell_type": "code",
      "source": [
        ""
      ],
      "metadata": {
        "id": "8i3twPJo4bh7"
      },
      "execution_count": null,
      "outputs": []
    }
  ]
}